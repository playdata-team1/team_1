{
 "cells": [
  {
   "cell_type": "code",
   "execution_count": 1,
   "id": "78fb2d54",
   "metadata": {},
   "outputs": [],
   "source": [
    "import pandas as pd\n",
    "import numpy as np\n",
    "import seaborn as sns\n",
    "import matplotlib.pyplot as plt\n",
    "import warnings\n",
    "warnings.filterwarnings('ignore')\n",
    "\n",
    "# 한글 로딩\n",
    "from matplotlib import font_manager, rc\n",
    "plt.rcParams['axes.unicode_minus'] = False\n",
    "# f_path = '/Library/Fonts/AppleGothic.ttf' # 맥 사용자\n",
    "f_path = 'C:/Windows/Fonts/malgun.ttf'\n",
    "font_name = font_manager.FontProperties(fname=f_path).get_name()\n",
    "rc('font', family=  font_name)"
   ]
  },
  {
   "cell_type": "code",
   "execution_count": 10,
   "id": "d7cbb56f",
   "metadata": {},
   "outputs": [],
   "source": [
    "demo2017 = pd.read_csv('data/전국인구분포2017.csv', encoding = 'euc-kr', header = 1)\n",
    "demo2018 = pd.read_csv('data/전국인구분포2018.csv', encoding = 'euc-kr',header = 1)\n",
    "demo2019 = pd.read_csv('data/전국인구분포2019.csv', encoding = 'euc-kr',header = 1)"
   ]
  },
  {
   "cell_type": "code",
   "execution_count": 25,
   "id": "16423526",
   "metadata": {},
   "outputs": [],
   "source": [
    "d17 = demo2017.loc[5:29, ['행정구역별(읍면동)','총인구 (명)']]\n",
    "d18 = demo2018.loc[5:29, ['행정구역별(읍면동)','총인구 (명)']]\n",
    "d19 = demo2019.loc[5:29, ['행정구역별(읍면동)','총인구 (명)']]"
   ]
  },
  {
   "cell_type": "code",
   "execution_count": 26,
   "id": "afb22019",
   "metadata": {},
   "outputs": [],
   "source": [
    "d_index = ['시군구', '인구수']"
   ]
  },
  {
   "cell_type": "code",
   "execution_count": 32,
   "id": "49bba8fb",
   "metadata": {},
   "outputs": [],
   "source": [
    "d17 = d17.rename(columns = {'행정구역별(읍면동)' : '시군구', '총인구 (명)':'인구수'})\n",
    "d17.reset_index(inplace = True)\n",
    "d17 = d17.loc[:,[\"시군구\", '인구수']]\n",
    "\n",
    "d18 = d18.rename(columns = {'행정구역별(읍면동)' : '시군구', '총인구 (명)':'인구수'})\n",
    "d18.reset_index(inplace = True)\n",
    "d18 = d18.loc[:,[\"시군구\", '인구수']]\n",
    "\n",
    "d19 = d19.rename(columns = {'행정구역별(읍면동)' : '시군구', '총인구 (명)':'인구수'})\n",
    "d19.reset_index(inplace = True)\n",
    "d19 = d19.loc[:,[\"시군구\", '인구수']]"
   ]
  },
  {
   "cell_type": "code",
   "execution_count": 40,
   "id": "9c1c4634",
   "metadata": {},
   "outputs": [],
   "source": []
  },
  {
   "cell_type": "code",
   "execution_count": 47,
   "id": "3f079226",
   "metadata": {},
   "outputs": [],
   "source": [
    "d17.to_csv('data/preprocessing/서울특별시구별인구2017.csv')\n",
    "d18.to_csv('data/preprocessing/서울특별시구별인구2018.csv')\n",
    "d19.to_csv('data/preprocessing/서울특별시구별인구2019.csv')"
   ]
  },
  {
   "cell_type": "code",
   "execution_count": null,
   "id": "e0d6e39c",
   "metadata": {},
   "outputs": [],
   "source": []
  }
 ],
 "metadata": {
  "kernelspec": {
   "display_name": "Python 3 (ipykernel)",
   "language": "python",
   "name": "python3"
  },
  "language_info": {
   "codemirror_mode": {
    "name": "ipython",
    "version": 3
   },
   "file_extension": ".py",
   "mimetype": "text/x-python",
   "name": "python",
   "nbconvert_exporter": "python",
   "pygments_lexer": "ipython3",
   "version": "3.10.9"
  }
 },
 "nbformat": 4,
 "nbformat_minor": 5
}
