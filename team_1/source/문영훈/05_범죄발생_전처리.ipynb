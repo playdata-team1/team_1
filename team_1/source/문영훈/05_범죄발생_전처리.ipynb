{
 "cells": [
  {
   "cell_type": "code",
   "execution_count": 1,
   "id": "940343e0",
   "metadata": {},
   "outputs": [],
   "source": [
    "import pandas as pd\n",
    "import numpy as np\n",
    "import seaborn as sns\n",
    "import matplotlib.pyplot as plt\n",
    "import warnings\n",
    "warnings.filterwarnings('ignore')\n",
    "\n",
    "# 한글 로딩\n",
    "from matplotlib import font_manager, rc\n",
    "plt.rcParams['axes.unicode_minus'] = False\n",
    "# f_path = '/Library/Fonts/AppleGothic.ttf' # 맥 사용자\n",
    "f_path = 'C:/Windows/Fonts/malgun.ttf'\n",
    "font_name = font_manager.FontProperties(fname=f_path).get_name()\n",
    "rc('font', family=  font_name)\n"
   ]
  },
  {
   "cell_type": "code",
   "execution_count": 4,
   "id": "1230e712",
   "metadata": {},
   "outputs": [],
   "source": [
    "crime = pd.read_excel('data/서울시 범죄건수.xlsx')"
   ]
  },
  {
   "cell_type": "code",
   "execution_count": 6,
   "id": "a2273fd0",
   "metadata": {},
   "outputs": [],
   "source": [
    "crime.to_csv('data/서울시 범죄건수.csv')"
   ]
  },
  {
   "cell_type": "code",
   "execution_count": 19,
   "id": "da73fb04",
   "metadata": {},
   "outputs": [],
   "source": [
    "c1 = crime.loc[:,['자치구별(2)', '2017', '2018', '2019']]"
   ]
  },
  {
   "cell_type": "code",
   "execution_count": 20,
   "id": "32bbe13d",
   "metadata": {},
   "outputs": [],
   "source": [
    "c1 = c1.iloc[4:,:]\n",
    "c1.reset_index(inplace = True)\n",
    "c1 = c1.iloc[:,1:]"
   ]
  },
  {
   "cell_type": "code",
   "execution_count": 22,
   "id": "5a28a995",
   "metadata": {},
   "outputs": [],
   "source": [
    "c1.to_csv('data/preprocessing/지역구_년도별_범죄발생.csv')"
   ]
  },
  {
   "cell_type": "code",
   "execution_count": null,
   "id": "5760edf7",
   "metadata": {},
   "outputs": [],
   "source": []
  }
 ],
 "metadata": {
  "kernelspec": {
   "display_name": "Python 3 (ipykernel)",
   "language": "python",
   "name": "python3"
  },
  "language_info": {
   "codemirror_mode": {
    "name": "ipython",
    "version": 3
   },
   "file_extension": ".py",
   "mimetype": "text/x-python",
   "name": "python",
   "nbconvert_exporter": "python",
   "pygments_lexer": "ipython3",
   "version": "3.10.9"
  }
 },
 "nbformat": 4,
 "nbformat_minor": 5
}
