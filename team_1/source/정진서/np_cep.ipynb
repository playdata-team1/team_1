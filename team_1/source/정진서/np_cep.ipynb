{
 "cells": [
  {
   "cell_type": "code",
   "execution_count": 10,
   "metadata": {},
   "outputs": [],
   "source": [
    "import pandas as pd\n",
    "import numpy as np\n",
    "import glob\n",
    "import matplotlib as mat\n",
    "import matplotlib.pyplot as plt\n",
    "import seaborn as sns\n",
    "import xlrd\n",
    "import platform\n",
    "import json\n",
    "import googlemaps\n",
    "import folium\n",
    "from matplotlib import font_manager , rc\n",
    "f_path = \"/Library/Fonts/Arial Unicode.ttf\"\n",
    "font_name = font_manager.FontProperties(fname=f_path).get_name()\n",
    "rc('font', family=font_name)"
   ]
  },
  {
   "cell_type": "code",
   "execution_count": 11,
   "metadata": {},
   "outputs": [
    {
     "data": {
      "text/html": [
       "<div>\n",
       "<style scoped>\n",
       "    .dataframe tbody tr th:only-of-type {\n",
       "        vertical-align: middle;\n",
       "    }\n",
       "\n",
       "    .dataframe tbody tr th {\n",
       "        vertical-align: top;\n",
       "    }\n",
       "\n",
       "    .dataframe thead th {\n",
       "        text-align: right;\n",
       "    }\n",
       "</style>\n",
       "<table border=\"1\" class=\"dataframe\">\n",
       "  <thead>\n",
       "    <tr style=\"text-align: right;\">\n",
       "      <th></th>\n",
       "      <th>시도</th>\n",
       "      <th>시군구</th>\n",
       "      <th>2017 범죄발생합계</th>\n",
       "      <th>2018 범죄발생합계</th>\n",
       "      <th>2019 범죄발생합계</th>\n",
       "      <th>2017 인구합계</th>\n",
       "      <th>2018 인구합계</th>\n",
       "      <th>2019 인구합계</th>\n",
       "    </tr>\n",
       "  </thead>\n",
       "  <tbody>\n",
       "    <tr>\n",
       "      <th>0</th>\n",
       "      <td>서울특별시</td>\n",
       "      <td>강남구</td>\n",
       "      <td>7720</td>\n",
       "      <td>7513</td>\n",
       "      <td>7304</td>\n",
       "      <td>561052</td>\n",
       "      <td>547453</td>\n",
       "      <td>550209</td>\n",
       "    </tr>\n",
       "    <tr>\n",
       "      <th>1</th>\n",
       "      <td>서울특별시</td>\n",
       "      <td>강동구</td>\n",
       "      <td>4261</td>\n",
       "      <td>3919</td>\n",
       "      <td>4014</td>\n",
       "      <td>440359</td>\n",
       "      <td>431920</td>\n",
       "      <td>440390</td>\n",
       "    </tr>\n",
       "    <tr>\n",
       "      <th>2</th>\n",
       "      <td>서울특별시</td>\n",
       "      <td>강북구</td>\n",
       "      <td>3393</td>\n",
       "      <td>3437</td>\n",
       "      <td>3838</td>\n",
       "      <td>328002</td>\n",
       "      <td>322915</td>\n",
       "      <td>317695</td>\n",
       "    </tr>\n",
       "    <tr>\n",
       "      <th>3</th>\n",
       "      <td>서울특별시</td>\n",
       "      <td>강서구</td>\n",
       "      <td>5135</td>\n",
       "      <td>4629</td>\n",
       "      <td>4924</td>\n",
       "      <td>608255</td>\n",
       "      <td>603611</td>\n",
       "      <td>598273</td>\n",
       "    </tr>\n",
       "    <tr>\n",
       "      <th>4</th>\n",
       "      <td>서울특별시</td>\n",
       "      <td>관악구</td>\n",
       "      <td>5525</td>\n",
       "      <td>5026</td>\n",
       "      <td>5328</td>\n",
       "      <td>520929</td>\n",
       "      <td>520040</td>\n",
       "      <td>517334</td>\n",
       "    </tr>\n",
       "  </tbody>\n",
       "</table>\n",
       "</div>"
      ],
      "text/plain": [
       "      시도  시군구  2017 범죄발생합계  2018 범죄발생합계  2019 범죄발생합계  2017 인구합계  2018 인구합계  \\\n",
       "0  서울특별시  강남구         7720         7513         7304     561052     547453   \n",
       "1  서울특별시  강동구         4261         3919         4014     440359     431920   \n",
       "2  서울특별시  강북구         3393         3437         3838     328002     322915   \n",
       "3  서울특별시  강서구         5135         4629         4924     608255     603611   \n",
       "4  서울특별시  관악구         5525         5026         5328     520929     520040   \n",
       "\n",
       "   2019 인구합계  \n",
       "0     550209  \n",
       "1     440390  \n",
       "2     317695  \n",
       "3     598273  \n",
       "4     517334  "
      ]
     },
     "execution_count": 11,
     "metadata": {},
     "output_type": "execute_result"
    }
   ],
   "source": [
    "pop_crime = pd.read_excel('../data/서울시_구별_범죄발생_인구수.xlsx', index_col = 0)\n",
    "pop_crime.head()"
   ]
  },
  {
   "cell_type": "code",
   "execution_count": 12,
   "metadata": {},
   "outputs": [
    {
     "data": {
      "text/html": [
       "<div>\n",
       "<style scoped>\n",
       "    .dataframe tbody tr th:only-of-type {\n",
       "        vertical-align: middle;\n",
       "    }\n",
       "\n",
       "    .dataframe tbody tr th {\n",
       "        vertical-align: top;\n",
       "    }\n",
       "\n",
       "    .dataframe thead th {\n",
       "        text-align: right;\n",
       "    }\n",
       "</style>\n",
       "<table border=\"1\" class=\"dataframe\">\n",
       "  <thead>\n",
       "    <tr style=\"text-align: right;\">\n",
       "      <th></th>\n",
       "      <th>시도</th>\n",
       "      <th>시군구</th>\n",
       "      <th>2017</th>\n",
       "      <th>2018</th>\n",
       "      <th>2019</th>\n",
       "      <th>2017~2018</th>\n",
       "      <th>2018~2019</th>\n",
       "      <th>2017~2019</th>\n",
       "    </tr>\n",
       "  </thead>\n",
       "  <tbody>\n",
       "    <tr>\n",
       "      <th>0</th>\n",
       "      <td>서울특별시</td>\n",
       "      <td>강남구</td>\n",
       "      <td>48</td>\n",
       "      <td>54</td>\n",
       "      <td>56</td>\n",
       "      <td>6</td>\n",
       "      <td>2</td>\n",
       "      <td>8</td>\n",
       "    </tr>\n",
       "    <tr>\n",
       "      <th>1</th>\n",
       "      <td>서울특별시</td>\n",
       "      <td>강동구</td>\n",
       "      <td>16</td>\n",
       "      <td>16</td>\n",
       "      <td>16</td>\n",
       "      <td>0</td>\n",
       "      <td>0</td>\n",
       "      <td>0</td>\n",
       "    </tr>\n",
       "    <tr>\n",
       "      <th>2</th>\n",
       "      <td>서울특별시</td>\n",
       "      <td>강북구</td>\n",
       "      <td>5</td>\n",
       "      <td>6</td>\n",
       "      <td>6</td>\n",
       "      <td>1</td>\n",
       "      <td>0</td>\n",
       "      <td>1</td>\n",
       "    </tr>\n",
       "    <tr>\n",
       "      <th>3</th>\n",
       "      <td>서울특별시</td>\n",
       "      <td>강서구</td>\n",
       "      <td>6</td>\n",
       "      <td>5</td>\n",
       "      <td>6</td>\n",
       "      <td>-1</td>\n",
       "      <td>1</td>\n",
       "      <td>0</td>\n",
       "    </tr>\n",
       "    <tr>\n",
       "      <th>4</th>\n",
       "      <td>서울특별시</td>\n",
       "      <td>관악구</td>\n",
       "      <td>2</td>\n",
       "      <td>2</td>\n",
       "      <td>2</td>\n",
       "      <td>0</td>\n",
       "      <td>0</td>\n",
       "      <td>0</td>\n",
       "    </tr>\n",
       "  </tbody>\n",
       "</table>\n",
       "</div>"
      ],
      "text/plain": [
       "      시도  시군구  2017  2018  2019  2017~2018  2018~2019  2017~2019\n",
       "0  서울특별시  강남구    48    54    56          6          2          8\n",
       "1  서울특별시  강동구    16    16    16          0          0          0\n",
       "2  서울특별시  강북구     5     6     6          1          0          1\n",
       "3  서울특별시  강서구     6     5     6         -1          1          0\n",
       "4  서울특별시  관악구     2     2     2          0          0          0"
      ]
     },
     "execution_count": 12,
     "metadata": {},
     "output_type": "execute_result"
    }
   ],
   "source": [
    "lib = pd.read_excel('../data/극장_통합_구별_개수_total.xlsx', index_col = 0)\n",
    "lib.head()"
   ]
  },
  {
   "cell_type": "code",
   "execution_count": 13,
   "metadata": {},
   "outputs": [
    {
     "data": {
      "text/html": [
       "<div>\n",
       "<style scoped>\n",
       "    .dataframe tbody tr th:only-of-type {\n",
       "        vertical-align: middle;\n",
       "    }\n",
       "\n",
       "    .dataframe tbody tr th {\n",
       "        vertical-align: top;\n",
       "    }\n",
       "\n",
       "    .dataframe thead th {\n",
       "        text-align: right;\n",
       "    }\n",
       "</style>\n",
       "<table border=\"1\" class=\"dataframe\">\n",
       "  <thead>\n",
       "    <tr style=\"text-align: right;\">\n",
       "      <th></th>\n",
       "      <th>시도</th>\n",
       "      <th>시군구</th>\n",
       "      <th>2017</th>\n",
       "      <th>2018</th>\n",
       "      <th>2019</th>\n",
       "      <th>2017~2018</th>\n",
       "      <th>2018~2019</th>\n",
       "      <th>2017~2019</th>\n",
       "    </tr>\n",
       "  </thead>\n",
       "  <tbody>\n",
       "    <tr>\n",
       "      <th>0</th>\n",
       "      <td>서울특별시</td>\n",
       "      <td>강남구</td>\n",
       "      <td>48</td>\n",
       "      <td>54</td>\n",
       "      <td>56</td>\n",
       "      <td>6</td>\n",
       "      <td>2</td>\n",
       "      <td>8</td>\n",
       "    </tr>\n",
       "    <tr>\n",
       "      <th>1</th>\n",
       "      <td>서울특별시</td>\n",
       "      <td>강동구</td>\n",
       "      <td>16</td>\n",
       "      <td>16</td>\n",
       "      <td>16</td>\n",
       "      <td>0</td>\n",
       "      <td>0</td>\n",
       "      <td>0</td>\n",
       "    </tr>\n",
       "    <tr>\n",
       "      <th>2</th>\n",
       "      <td>서울특별시</td>\n",
       "      <td>강북구</td>\n",
       "      <td>5</td>\n",
       "      <td>6</td>\n",
       "      <td>6</td>\n",
       "      <td>1</td>\n",
       "      <td>0</td>\n",
       "      <td>1</td>\n",
       "    </tr>\n",
       "    <tr>\n",
       "      <th>3</th>\n",
       "      <td>서울특별시</td>\n",
       "      <td>강서구</td>\n",
       "      <td>6</td>\n",
       "      <td>5</td>\n",
       "      <td>6</td>\n",
       "      <td>-1</td>\n",
       "      <td>1</td>\n",
       "      <td>0</td>\n",
       "    </tr>\n",
       "    <tr>\n",
       "      <th>4</th>\n",
       "      <td>서울특별시</td>\n",
       "      <td>관악구</td>\n",
       "      <td>2</td>\n",
       "      <td>2</td>\n",
       "      <td>2</td>\n",
       "      <td>0</td>\n",
       "      <td>0</td>\n",
       "      <td>0</td>\n",
       "    </tr>\n",
       "  </tbody>\n",
       "</table>\n",
       "</div>"
      ],
      "text/plain": [
       "      시도  시군구  2017  2018  2019  2017~2018  2018~2019  2017~2019\n",
       "0  서울특별시  강남구    48    54    56          6          2          8\n",
       "1  서울특별시  강동구    16    16    16          0          0          0\n",
       "2  서울특별시  강북구     5     6     6          1          0          1\n",
       "3  서울특별시  강서구     6     5     6         -1          1          0\n",
       "4  서울특별시  관악구     2     2     2          0          0          0"
      ]
     },
     "execution_count": 13,
     "metadata": {},
     "output_type": "execute_result"
    }
   ],
   "source": [
    "theater = pd.read_excel('../data/극장_통합_구별_개수_total.xlsx', index_col = 0)\n",
    "theater.head()"
   ]
  },
  {
   "cell_type": "code",
   "execution_count": 14,
   "metadata": {},
   "outputs": [
    {
     "name": "stdout",
     "output_type": "stream",
     "text": [
      "[[ 1.         -0.01602333]\n",
      " [-0.01602333  1.        ]]\n",
      "[[ 1.         -0.00951075]\n",
      " [-0.00951075  1.        ]]\n",
      "[[1.         0.05609069]\n",
      " [0.05609069 1.        ]]\n"
     ]
    }
   ],
   "source": [
    "print(np.corrcoef(pop_crime['2017 범죄발생합계'],lib['2017']))\n",
    "print(np.corrcoef(pop_crime['2018 범죄발생합계'],lib['2018']))\n",
    "print(np.corrcoef(pop_crime['2019 범죄발생합계'],lib['2019']))"
   ]
  },
  {
   "cell_type": "code",
   "execution_count": 15,
   "metadata": {},
   "outputs": [
    {
     "name": "stdout",
     "output_type": "stream",
     "text": [
      "[[1.         0.19525064]\n",
      " [0.19525064 1.        ]]\n",
      "[[1.         0.06640707]\n",
      " [0.06640707 1.        ]]\n",
      "[[1.         0.12870705]\n",
      " [0.12870705 1.        ]]\n"
     ]
    }
   ],
   "source": [
    "print(np.corrcoef(pop_crime['2017 범죄발생합계'],lib['2017~2018']))\n",
    "print(np.corrcoef(pop_crime['2018 범죄발생합계'],lib['2018~2019']))\n",
    "print(np.corrcoef(pop_crime['2019 범죄발생합계'],lib['2017~2019']))"
   ]
  },
  {
   "cell_type": "code",
   "execution_count": 16,
   "metadata": {},
   "outputs": [
    {
     "name": "stdout",
     "output_type": "stream",
     "text": [
      "[[ 1.         -0.01602333]\n",
      " [-0.01602333  1.        ]]\n",
      "[[ 1.         -0.00951075]\n",
      " [-0.00951075  1.        ]]\n",
      "[[1.         0.05609069]\n",
      " [0.05609069 1.        ]]\n"
     ]
    }
   ],
   "source": [
    "print(np.corrcoef(pop_crime['2017 범죄발생합계'],lib['2017']))\n",
    "print(np.corrcoef(pop_crime['2018 범죄발생합계'],lib['2018']))\n",
    "print(np.corrcoef(pop_crime['2019 범죄발생합계'],lib['2019']))"
   ]
  },
  {
   "cell_type": "code",
   "execution_count": 17,
   "metadata": {},
   "outputs": [
    {
     "name": "stdout",
     "output_type": "stream",
     "text": [
      "[[ 1.         -0.01602333]\n",
      " [-0.01602333  1.        ]]\n",
      "[[ 1.         -0.00951075]\n",
      " [-0.00951075  1.        ]]\n",
      "[[1.         0.05609069]\n",
      " [0.05609069 1.        ]]\n"
     ]
    }
   ],
   "source": [
    "print(np.corrcoef(pop_crime['2017 범죄발생합계'],theater['2017']))\n",
    "print(np.corrcoef(pop_crime['2018 범죄발생합계'],theater['2018']))\n",
    "print(np.corrcoef(pop_crime['2019 범죄발생합계'],theater['2019']))"
   ]
  },
  {
   "cell_type": "code",
   "execution_count": 18,
   "metadata": {},
   "outputs": [
    {
     "name": "stdout",
     "output_type": "stream",
     "text": [
      "[[1.         0.19525064]\n",
      " [0.19525064 1.        ]]\n",
      "[[1.         0.06640707]\n",
      " [0.06640707 1.        ]]\n",
      "[[1.         0.12870705]\n",
      " [0.12870705 1.        ]]\n"
     ]
    }
   ],
   "source": [
    "print(np.corrcoef(pop_crime['2017 범죄발생합계'],theater['2017~2018']))\n",
    "print(np.corrcoef(pop_crime['2018 범죄발생합계'],theater['2018~2019']))\n",
    "print(np.corrcoef(pop_crime['2019 범죄발생합계'],theater['2017~2019']))"
   ]
  },
  {
   "cell_type": "code",
   "execution_count": null,
   "metadata": {},
   "outputs": [],
   "source": []
  }
 ],
 "metadata": {
  "kernelspec": {
   "display_name": "playdata",
   "language": "python",
   "name": "python3"
  },
  "language_info": {
   "codemirror_mode": {
    "name": "ipython",
    "version": 3
   },
   "file_extension": ".py",
   "mimetype": "text/x-python",
   "name": "python",
   "nbconvert_exporter": "python",
   "pygments_lexer": "ipython3",
   "version": "3.9.6"
  },
  "orig_nbformat": 4
 },
 "nbformat": 4,
 "nbformat_minor": 2
}
