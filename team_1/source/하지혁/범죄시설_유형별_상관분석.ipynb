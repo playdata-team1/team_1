{
 "cells": [
  {
   "cell_type": "code",
   "execution_count": 2,
   "id": "7abd6ee4",
   "metadata": {},
   "outputs": [],
   "source": [
    "import pandas as pd\n",
    "import numpy as np"
   ]
  },
  {
   "cell_type": "code",
   "execution_count": 3,
   "id": "ad25bda6",
   "metadata": {
    "scrolled": true
   },
   "outputs": [
    {
     "data": {
      "text/html": [
       "<div>\n",
       "<style scoped>\n",
       "    .dataframe tbody tr th:only-of-type {\n",
       "        vertical-align: middle;\n",
       "    }\n",
       "\n",
       "    .dataframe tbody tr th {\n",
       "        vertical-align: top;\n",
       "    }\n",
       "\n",
       "    .dataframe thead th {\n",
       "        text-align: right;\n",
       "    }\n",
       "</style>\n",
       "<table border=\"1\" class=\"dataframe\">\n",
       "  <thead>\n",
       "    <tr style=\"text-align: right;\">\n",
       "      <th></th>\n",
       "      <th>시군구</th>\n",
       "      <th>2017범죄억제시설합계</th>\n",
       "      <th>2018범죄억제시설합계</th>\n",
       "      <th>2019범죄억제시설합계</th>\n",
       "      <th>2017범죄발생률</th>\n",
       "      <th>2018범죄발생률</th>\n",
       "      <th>2019범죄발생률</th>\n",
       "    </tr>\n",
       "  </thead>\n",
       "  <tbody>\n",
       "    <tr>\n",
       "      <th>0</th>\n",
       "      <td>강남구</td>\n",
       "      <td>346</td>\n",
       "      <td>369</td>\n",
       "      <td>374</td>\n",
       "      <td>1.375987</td>\n",
       "      <td>1.372355</td>\n",
       "      <td>1.327496</td>\n",
       "    </tr>\n",
       "    <tr>\n",
       "      <th>1</th>\n",
       "      <td>강동구</td>\n",
       "      <td>182</td>\n",
       "      <td>183</td>\n",
       "      <td>182</td>\n",
       "      <td>0.967620</td>\n",
       "      <td>0.907344</td>\n",
       "      <td>0.911465</td>\n",
       "    </tr>\n",
       "    <tr>\n",
       "      <th>2</th>\n",
       "      <td>강북구</td>\n",
       "      <td>106</td>\n",
       "      <td>99</td>\n",
       "      <td>97</td>\n",
       "      <td>1.034445</td>\n",
       "      <td>1.064367</td>\n",
       "      <td>1.208077</td>\n",
       "    </tr>\n",
       "    <tr>\n",
       "      <th>3</th>\n",
       "      <td>강서구</td>\n",
       "      <td>201</td>\n",
       "      <td>201</td>\n",
       "      <td>191</td>\n",
       "      <td>0.844218</td>\n",
       "      <td>0.766885</td>\n",
       "      <td>0.823036</td>\n",
       "    </tr>\n",
       "    <tr>\n",
       "      <th>4</th>\n",
       "      <td>관악구</td>\n",
       "      <td>178</td>\n",
       "      <td>175</td>\n",
       "      <td>174</td>\n",
       "      <td>1.060605</td>\n",
       "      <td>0.966464</td>\n",
       "      <td>1.029896</td>\n",
       "    </tr>\n",
       "  </tbody>\n",
       "</table>\n",
       "</div>"
      ],
      "text/plain": [
       "   시군구  2017범죄억제시설합계  2018범죄억제시설합계  2019범죄억제시설합계  2017범죄발생률  2018범죄발생률  \\\n",
       "0  강남구           346           369           374   1.375987   1.372355   \n",
       "1  강동구           182           183           182   0.967620   0.907344   \n",
       "2  강북구           106            99            97   1.034445   1.064367   \n",
       "3  강서구           201           201           191   0.844218   0.766885   \n",
       "4  관악구           178           175           174   1.060605   0.966464   \n",
       "\n",
       "   2019범죄발생률  \n",
       "0   1.327496  \n",
       "1   0.911465  \n",
       "2   1.208077  \n",
       "3   0.823036  \n",
       "4   1.029896  "
      ]
     },
     "execution_count": 3,
     "metadata": {},
     "output_type": "execute_result"
    }
   ],
   "source": [
    "control_crime = pd.read_excel('//Users/hajihyuk/Documents/1차 미니 프로젝트/상관분석/범죄억제시설_상관분석.xlsx', index_col=0)\n",
    "control_crime.head()"
   ]
  },
  {
   "cell_type": "code",
   "execution_count": 4,
   "id": "cf859b3e",
   "metadata": {},
   "outputs": [
    {
     "data": {
      "text/html": [
       "<div>\n",
       "<style scoped>\n",
       "    .dataframe tbody tr th:only-of-type {\n",
       "        vertical-align: middle;\n",
       "    }\n",
       "\n",
       "    .dataframe tbody tr th {\n",
       "        vertical-align: top;\n",
       "    }\n",
       "\n",
       "    .dataframe thead th {\n",
       "        text-align: right;\n",
       "    }\n",
       "</style>\n",
       "<table border=\"1\" class=\"dataframe\">\n",
       "  <thead>\n",
       "    <tr style=\"text-align: right;\">\n",
       "      <th></th>\n",
       "      <th>시군구</th>\n",
       "      <th>2017범죄억제시설합계</th>\n",
       "      <th>2018범죄억제시설합계</th>\n",
       "      <th>2019범죄억제시설합계</th>\n",
       "      <th>2017범죄발생률</th>\n",
       "      <th>2018범죄발생률</th>\n",
       "      <th>2019범죄발생률</th>\n",
       "    </tr>\n",
       "  </thead>\n",
       "  <tbody>\n",
       "    <tr>\n",
       "      <th>0</th>\n",
       "      <td>강남구</td>\n",
       "      <td>346</td>\n",
       "      <td>369</td>\n",
       "      <td>374</td>\n",
       "      <td>1.375987</td>\n",
       "      <td>1.372355</td>\n",
       "      <td>1.327496</td>\n",
       "    </tr>\n",
       "    <tr>\n",
       "      <th>1</th>\n",
       "      <td>강동구</td>\n",
       "      <td>182</td>\n",
       "      <td>183</td>\n",
       "      <td>182</td>\n",
       "      <td>0.967620</td>\n",
       "      <td>0.907344</td>\n",
       "      <td>0.911465</td>\n",
       "    </tr>\n",
       "    <tr>\n",
       "      <th>2</th>\n",
       "      <td>강북구</td>\n",
       "      <td>106</td>\n",
       "      <td>99</td>\n",
       "      <td>97</td>\n",
       "      <td>1.034445</td>\n",
       "      <td>1.064367</td>\n",
       "      <td>1.208077</td>\n",
       "    </tr>\n",
       "    <tr>\n",
       "      <th>3</th>\n",
       "      <td>강서구</td>\n",
       "      <td>201</td>\n",
       "      <td>201</td>\n",
       "      <td>191</td>\n",
       "      <td>0.844218</td>\n",
       "      <td>0.766885</td>\n",
       "      <td>0.823036</td>\n",
       "    </tr>\n",
       "    <tr>\n",
       "      <th>4</th>\n",
       "      <td>관악구</td>\n",
       "      <td>178</td>\n",
       "      <td>175</td>\n",
       "      <td>174</td>\n",
       "      <td>1.060605</td>\n",
       "      <td>0.966464</td>\n",
       "      <td>1.029896</td>\n",
       "    </tr>\n",
       "    <tr>\n",
       "      <th>5</th>\n",
       "      <td>광진구</td>\n",
       "      <td>100</td>\n",
       "      <td>93</td>\n",
       "      <td>94</td>\n",
       "      <td>1.247925</td>\n",
       "      <td>1.055077</td>\n",
       "      <td>1.092999</td>\n",
       "    </tr>\n",
       "    <tr>\n",
       "      <th>6</th>\n",
       "      <td>구로구</td>\n",
       "      <td>129</td>\n",
       "      <td>135</td>\n",
       "      <td>137</td>\n",
       "      <td>1.108572</td>\n",
       "      <td>1.096956</td>\n",
       "      <td>1.071304</td>\n",
       "    </tr>\n",
       "    <tr>\n",
       "      <th>7</th>\n",
       "      <td>금천구</td>\n",
       "      <td>79</td>\n",
       "      <td>80</td>\n",
       "      <td>78</td>\n",
       "      <td>1.288014</td>\n",
       "      <td>1.296350</td>\n",
       "      <td>1.233024</td>\n",
       "    </tr>\n",
       "    <tr>\n",
       "      <th>8</th>\n",
       "      <td>노원구</td>\n",
       "      <td>192</td>\n",
       "      <td>199</td>\n",
       "      <td>200</td>\n",
       "      <td>0.754200</td>\n",
       "      <td>0.730991</td>\n",
       "      <td>0.772934</td>\n",
       "    </tr>\n",
       "    <tr>\n",
       "      <th>9</th>\n",
       "      <td>도봉구</td>\n",
       "      <td>124</td>\n",
       "      <td>126</td>\n",
       "      <td>128</td>\n",
       "      <td>0.577355</td>\n",
       "      <td>0.658278</td>\n",
       "      <td>0.628667</td>\n",
       "    </tr>\n",
       "    <tr>\n",
       "      <th>10</th>\n",
       "      <td>동대문구</td>\n",
       "      <td>134</td>\n",
       "      <td>131</td>\n",
       "      <td>131</td>\n",
       "      <td>1.086033</td>\n",
       "      <td>1.010051</td>\n",
       "      <td>1.017015</td>\n",
       "    </tr>\n",
       "    <tr>\n",
       "      <th>11</th>\n",
       "      <td>동작구</td>\n",
       "      <td>188</td>\n",
       "      <td>188</td>\n",
       "      <td>190</td>\n",
       "      <td>0.815191</td>\n",
       "      <td>0.757233</td>\n",
       "      <td>0.831475</td>\n",
       "    </tr>\n",
       "    <tr>\n",
       "      <th>12</th>\n",
       "      <td>마포구</td>\n",
       "      <td>139</td>\n",
       "      <td>144</td>\n",
       "      <td>145</td>\n",
       "      <td>1.368127</td>\n",
       "      <td>1.338651</td>\n",
       "      <td>1.254648</td>\n",
       "    </tr>\n",
       "    <tr>\n",
       "      <th>13</th>\n",
       "      <td>서대문구</td>\n",
       "      <td>109</td>\n",
       "      <td>114</td>\n",
       "      <td>115</td>\n",
       "      <td>0.957764</td>\n",
       "      <td>0.867277</td>\n",
       "      <td>0.910663</td>\n",
       "    </tr>\n",
       "    <tr>\n",
       "      <th>14</th>\n",
       "      <td>서초구</td>\n",
       "      <td>142</td>\n",
       "      <td>146</td>\n",
       "      <td>152</td>\n",
       "      <td>1.057025</td>\n",
       "      <td>1.078594</td>\n",
       "      <td>1.273710</td>\n",
       "    </tr>\n",
       "    <tr>\n",
       "      <th>15</th>\n",
       "      <td>성동구</td>\n",
       "      <td>114</td>\n",
       "      <td>112</td>\n",
       "      <td>108</td>\n",
       "      <td>0.884843</td>\n",
       "      <td>0.776394</td>\n",
       "      <td>0.813000</td>\n",
       "    </tr>\n",
       "    <tr>\n",
       "      <th>16</th>\n",
       "      <td>성북구</td>\n",
       "      <td>142</td>\n",
       "      <td>141</td>\n",
       "      <td>150</td>\n",
       "      <td>0.754051</td>\n",
       "      <td>0.679493</td>\n",
       "      <td>0.632664</td>\n",
       "    </tr>\n",
       "    <tr>\n",
       "      <th>17</th>\n",
       "      <td>송파구</td>\n",
       "      <td>242</td>\n",
       "      <td>239</td>\n",
       "      <td>243</td>\n",
       "      <td>0.830784</td>\n",
       "      <td>0.862203</td>\n",
       "      <td>0.834577</td>\n",
       "    </tr>\n",
       "    <tr>\n",
       "      <th>18</th>\n",
       "      <td>양천구</td>\n",
       "      <td>178</td>\n",
       "      <td>184</td>\n",
       "      <td>169</td>\n",
       "      <td>0.817232</td>\n",
       "      <td>0.750836</td>\n",
       "      <td>0.695242</td>\n",
       "    </tr>\n",
       "    <tr>\n",
       "      <th>19</th>\n",
       "      <td>영등포구</td>\n",
       "      <td>165</td>\n",
       "      <td>168</td>\n",
       "      <td>165</td>\n",
       "      <td>1.484737</td>\n",
       "      <td>1.446977</td>\n",
       "      <td>1.451422</td>\n",
       "    </tr>\n",
       "    <tr>\n",
       "      <th>20</th>\n",
       "      <td>용산구</td>\n",
       "      <td>70</td>\n",
       "      <td>73</td>\n",
       "      <td>78</td>\n",
       "      <td>1.660912</td>\n",
       "      <td>1.391734</td>\n",
       "      <td>1.351225</td>\n",
       "    </tr>\n",
       "    <tr>\n",
       "      <th>21</th>\n",
       "      <td>은평구</td>\n",
       "      <td>338</td>\n",
       "      <td>340</td>\n",
       "      <td>342</td>\n",
       "      <td>0.790510</td>\n",
       "      <td>0.736160</td>\n",
       "      <td>0.800750</td>\n",
       "    </tr>\n",
       "    <tr>\n",
       "      <th>22</th>\n",
       "      <td>종로구</td>\n",
       "      <td>157</td>\n",
       "      <td>166</td>\n",
       "      <td>174</td>\n",
       "      <td>2.469910</td>\n",
       "      <td>2.263443</td>\n",
       "      <td>2.375995</td>\n",
       "    </tr>\n",
       "    <tr>\n",
       "      <th>23</th>\n",
       "      <td>중구</td>\n",
       "      <td>239</td>\n",
       "      <td>240</td>\n",
       "      <td>242</td>\n",
       "      <td>3.108631</td>\n",
       "      <td>2.971253</td>\n",
       "      <td>3.170242</td>\n",
       "    </tr>\n",
       "    <tr>\n",
       "      <th>24</th>\n",
       "      <td>중랑구</td>\n",
       "      <td>146</td>\n",
       "      <td>145</td>\n",
       "      <td>142</td>\n",
       "      <td>1.107370</td>\n",
       "      <td>1.050602</td>\n",
       "      <td>1.061628</td>\n",
       "    </tr>\n",
       "  </tbody>\n",
       "</table>\n",
       "</div>"
      ],
      "text/plain": [
       "     시군구  2017범죄억제시설합계  2018범죄억제시설합계  2019범죄억제시설합계  2017범죄발생률  2018범죄발생률  \\\n",
       "0    강남구           346           369           374   1.375987   1.372355   \n",
       "1    강동구           182           183           182   0.967620   0.907344   \n",
       "2    강북구           106            99            97   1.034445   1.064367   \n",
       "3    강서구           201           201           191   0.844218   0.766885   \n",
       "4    관악구           178           175           174   1.060605   0.966464   \n",
       "5    광진구           100            93            94   1.247925   1.055077   \n",
       "6    구로구           129           135           137   1.108572   1.096956   \n",
       "7    금천구            79            80            78   1.288014   1.296350   \n",
       "8    노원구           192           199           200   0.754200   0.730991   \n",
       "9    도봉구           124           126           128   0.577355   0.658278   \n",
       "10  동대문구           134           131           131   1.086033   1.010051   \n",
       "11   동작구           188           188           190   0.815191   0.757233   \n",
       "12   마포구           139           144           145   1.368127   1.338651   \n",
       "13  서대문구           109           114           115   0.957764   0.867277   \n",
       "14   서초구           142           146           152   1.057025   1.078594   \n",
       "15   성동구           114           112           108   0.884843   0.776394   \n",
       "16   성북구           142           141           150   0.754051   0.679493   \n",
       "17   송파구           242           239           243   0.830784   0.862203   \n",
       "18   양천구           178           184           169   0.817232   0.750836   \n",
       "19  영등포구           165           168           165   1.484737   1.446977   \n",
       "20   용산구            70            73            78   1.660912   1.391734   \n",
       "21   은평구           338           340           342   0.790510   0.736160   \n",
       "22   종로구           157           166           174   2.469910   2.263443   \n",
       "23    중구           239           240           242   3.108631   2.971253   \n",
       "24   중랑구           146           145           142   1.107370   1.050602   \n",
       "\n",
       "    2019범죄발생률  \n",
       "0    1.327496  \n",
       "1    0.911465  \n",
       "2    1.208077  \n",
       "3    0.823036  \n",
       "4    1.029896  \n",
       "5    1.092999  \n",
       "6    1.071304  \n",
       "7    1.233024  \n",
       "8    0.772934  \n",
       "9    0.628667  \n",
       "10   1.017015  \n",
       "11   0.831475  \n",
       "12   1.254648  \n",
       "13   0.910663  \n",
       "14   1.273710  \n",
       "15   0.813000  \n",
       "16   0.632664  \n",
       "17   0.834577  \n",
       "18   0.695242  \n",
       "19   1.451422  \n",
       "20   1.351225  \n",
       "21   0.800750  \n",
       "22   2.375995  \n",
       "23   3.170242  \n",
       "24   1.061628  "
      ]
     },
     "execution_count": 4,
     "metadata": {},
     "output_type": "execute_result"
    }
   ],
   "source": [
    "control_crime"
   ]
  },
  {
   "cell_type": "code",
   "execution_count": 5,
   "id": "0ae6a59c",
   "metadata": {},
   "outputs": [
    {
     "data": {
      "text/plain": [
       "array([[1.        , 0.05210448],\n",
       "       [0.05210448, 1.        ]])"
      ]
     },
     "execution_count": 5,
     "metadata": {},
     "output_type": "execute_result"
    }
   ],
   "source": [
    "np.corrcoef(control_crime['2017범죄발생률'],control_crime['2017범죄억제시설합계'])"
   ]
  },
  {
   "cell_type": "code",
   "execution_count": 8,
   "id": "10a26519",
   "metadata": {},
   "outputs": [
    {
     "data": {
      "text/plain": [
       "array([[1.        , 0.10053074],\n",
       "       [0.10053074, 1.        ]])"
      ]
     },
     "execution_count": 8,
     "metadata": {},
     "output_type": "execute_result"
    }
   ],
   "source": [
    "np.corrcoef(control_crime['2018범죄발생률'],control_crime['2018범죄억제시설합계'])"
   ]
  },
  {
   "cell_type": "code",
   "execution_count": 9,
   "id": "8eafa557",
   "metadata": {},
   "outputs": [
    {
     "data": {
      "text/plain": [
       "array([[1.        , 0.12480521],\n",
       "       [0.12480521, 1.        ]])"
      ]
     },
     "execution_count": 9,
     "metadata": {},
     "output_type": "execute_result"
    }
   ],
   "source": [
    "np.corrcoef(control_crime['2019범죄발생률'],control_crime['2019범죄억제시설합계'])"
   ]
  },
  {
   "cell_type": "code",
   "execution_count": 14,
   "id": "7ccc65bc",
   "metadata": {},
   "outputs": [
    {
     "name": "stdout",
     "output_type": "stream",
     "text": [
      "4140\n",
      "4191\n",
      "4201\n"
     ]
    }
   ],
   "source": [
    "print(control_crime['2017범죄억제시설합계'].sum())\n",
    "print(control_crime['2018범죄억제시설합계'].sum())\n",
    "print(control_crime['2019범죄억제시설합계'].sum())"
   ]
  },
  {
   "cell_type": "code",
   "execution_count": 16,
   "id": "90584450",
   "metadata": {},
   "outputs": [
    {
     "data": {
      "text/html": [
       "<div>\n",
       "<style scoped>\n",
       "    .dataframe tbody tr th:only-of-type {\n",
       "        vertical-align: middle;\n",
       "    }\n",
       "\n",
       "    .dataframe tbody tr th {\n",
       "        vertical-align: top;\n",
       "    }\n",
       "\n",
       "    .dataframe thead th {\n",
       "        text-align: right;\n",
       "    }\n",
       "</style>\n",
       "<table border=\"1\" class=\"dataframe\">\n",
       "  <thead>\n",
       "    <tr style=\"text-align: right;\">\n",
       "      <th></th>\n",
       "      <th>시군구</th>\n",
       "      <th>2017범죄유인시설합계</th>\n",
       "      <th>2018범죄유인시설합계</th>\n",
       "      <th>2019범죄유인시설합계</th>\n",
       "      <th>2017범죄발생률</th>\n",
       "      <th>2018범죄발생률</th>\n",
       "      <th>2019범죄발생률</th>\n",
       "    </tr>\n",
       "  </thead>\n",
       "  <tbody>\n",
       "    <tr>\n",
       "      <th>0</th>\n",
       "      <td>강남구</td>\n",
       "      <td>1013</td>\n",
       "      <td>1017</td>\n",
       "      <td>1010</td>\n",
       "      <td>1.375987</td>\n",
       "      <td>1.372355</td>\n",
       "      <td>1.327496</td>\n",
       "    </tr>\n",
       "    <tr>\n",
       "      <th>1</th>\n",
       "      <td>강동구</td>\n",
       "      <td>533</td>\n",
       "      <td>538</td>\n",
       "      <td>530</td>\n",
       "      <td>0.967620</td>\n",
       "      <td>0.907344</td>\n",
       "      <td>0.911465</td>\n",
       "    </tr>\n",
       "    <tr>\n",
       "      <th>2</th>\n",
       "      <td>강북구</td>\n",
       "      <td>691</td>\n",
       "      <td>710</td>\n",
       "      <td>699</td>\n",
       "      <td>1.034445</td>\n",
       "      <td>1.064367</td>\n",
       "      <td>1.208077</td>\n",
       "    </tr>\n",
       "    <tr>\n",
       "      <th>3</th>\n",
       "      <td>강서구</td>\n",
       "      <td>915</td>\n",
       "      <td>922</td>\n",
       "      <td>904</td>\n",
       "      <td>0.844218</td>\n",
       "      <td>0.766885</td>\n",
       "      <td>0.823036</td>\n",
       "    </tr>\n",
       "    <tr>\n",
       "      <th>4</th>\n",
       "      <td>관악구</td>\n",
       "      <td>624</td>\n",
       "      <td>618</td>\n",
       "      <td>608</td>\n",
       "      <td>1.060605</td>\n",
       "      <td>0.966464</td>\n",
       "      <td>1.029896</td>\n",
       "    </tr>\n",
       "  </tbody>\n",
       "</table>\n",
       "</div>"
      ],
      "text/plain": [
       "   시군구  2017범죄유인시설합계  2018범죄유인시설합계  2019범죄유인시설합계  2017범죄발생률  2018범죄발생률  \\\n",
       "0  강남구          1013          1017          1010   1.375987   1.372355   \n",
       "1  강동구           533           538           530   0.967620   0.907344   \n",
       "2  강북구           691           710           699   1.034445   1.064367   \n",
       "3  강서구           915           922           904   0.844218   0.766885   \n",
       "4  관악구           624           618           608   1.060605   0.966464   \n",
       "\n",
       "   2019범죄발생률  \n",
       "0   1.327496  \n",
       "1   0.911465  \n",
       "2   1.208077  \n",
       "3   0.823036  \n",
       "4   1.029896  "
      ]
     },
     "execution_count": 16,
     "metadata": {},
     "output_type": "execute_result"
    }
   ],
   "source": [
    "entice_crime = pd.read_excel('/Users/hajihyuk/Documents/1차 미니 프로젝트/상관분석/범죄유인시설_상관분석.xlsx', index_col=0)\n",
    "entice_crime.head()"
   ]
  },
  {
   "cell_type": "code",
   "execution_count": null,
   "id": "009dd66d",
   "metadata": {},
   "outputs": [],
   "source": [
    "entice_crime"
   ]
  },
  {
   "cell_type": "code",
   "execution_count": 17,
   "id": "30eefd9c",
   "metadata": {},
   "outputs": [
    {
     "data": {
      "text/plain": [
       "array([[1.        , 0.30199811],\n",
       "       [0.30199811, 1.        ]])"
      ]
     },
     "execution_count": 17,
     "metadata": {},
     "output_type": "execute_result"
    }
   ],
   "source": [
    "np.corrcoef(entice_crime['2017범죄발생률'],entice_crime['2017범죄유인시설합계'])"
   ]
  },
  {
   "cell_type": "code",
   "execution_count": 18,
   "id": "3787f1f8",
   "metadata": {},
   "outputs": [
    {
     "data": {
      "text/plain": [
       "array([[1.       , 0.3362033],\n",
       "       [0.3362033, 1.       ]])"
      ]
     },
     "execution_count": 18,
     "metadata": {},
     "output_type": "execute_result"
    }
   ],
   "source": [
    "np.corrcoef(entice_crime['2018범죄발생률'],entice_crime['2018범죄유인시설합계'])"
   ]
  },
  {
   "cell_type": "code",
   "execution_count": 19,
   "id": "b7cc6aac",
   "metadata": {},
   "outputs": [
    {
     "data": {
      "text/plain": [
       "array([[1.       , 0.3556426],\n",
       "       [0.3556426, 1.       ]])"
      ]
     },
     "execution_count": 19,
     "metadata": {},
     "output_type": "execute_result"
    }
   ],
   "source": [
    "np.corrcoef(entice_crime['2019범죄발생률'],entice_crime['2019범죄유인시설합계'])"
   ]
  },
  {
   "cell_type": "code",
   "execution_count": 21,
   "id": "c8368664",
   "metadata": {},
   "outputs": [
    {
     "data": {
      "text/html": [
       "<div>\n",
       "<style scoped>\n",
       "    .dataframe tbody tr th:only-of-type {\n",
       "        vertical-align: middle;\n",
       "    }\n",
       "\n",
       "    .dataframe tbody tr th {\n",
       "        vertical-align: top;\n",
       "    }\n",
       "\n",
       "    .dataframe thead th {\n",
       "        text-align: right;\n",
       "    }\n",
       "</style>\n",
       "<table border=\"1\" class=\"dataframe\">\n",
       "  <thead>\n",
       "    <tr style=\"text-align: right;\">\n",
       "      <th></th>\n",
       "      <th>시군구</th>\n",
       "      <th>2017범죄유인시설합계</th>\n",
       "      <th>2018범죄유인시설합계</th>\n",
       "      <th>2019범죄유인시설합계</th>\n",
       "      <th>2017범죄발생률</th>\n",
       "      <th>2018범죄발생률</th>\n",
       "      <th>2019범죄발생률</th>\n",
       "    </tr>\n",
       "  </thead>\n",
       "  <tbody>\n",
       "    <tr>\n",
       "      <th>0</th>\n",
       "      <td>강남구</td>\n",
       "      <td>586</td>\n",
       "      <td>575</td>\n",
       "      <td>568</td>\n",
       "      <td>1.375987</td>\n",
       "      <td>1.372355</td>\n",
       "      <td>1.327496</td>\n",
       "    </tr>\n",
       "    <tr>\n",
       "      <th>1</th>\n",
       "      <td>강동구</td>\n",
       "      <td>335</td>\n",
       "      <td>317</td>\n",
       "      <td>309</td>\n",
       "      <td>0.967620</td>\n",
       "      <td>0.907344</td>\n",
       "      <td>0.911465</td>\n",
       "    </tr>\n",
       "    <tr>\n",
       "      <th>2</th>\n",
       "      <td>강북구</td>\n",
       "      <td>334</td>\n",
       "      <td>328</td>\n",
       "      <td>317</td>\n",
       "      <td>1.034445</td>\n",
       "      <td>1.064367</td>\n",
       "      <td>1.208077</td>\n",
       "    </tr>\n",
       "    <tr>\n",
       "      <th>3</th>\n",
       "      <td>강서구</td>\n",
       "      <td>454</td>\n",
       "      <td>444</td>\n",
       "      <td>426</td>\n",
       "      <td>0.844218</td>\n",
       "      <td>0.766885</td>\n",
       "      <td>0.823036</td>\n",
       "    </tr>\n",
       "    <tr>\n",
       "      <th>4</th>\n",
       "      <td>관악구</td>\n",
       "      <td>461</td>\n",
       "      <td>440</td>\n",
       "      <td>430</td>\n",
       "      <td>1.060605</td>\n",
       "      <td>0.966464</td>\n",
       "      <td>1.029896</td>\n",
       "    </tr>\n",
       "  </tbody>\n",
       "</table>\n",
       "</div>"
      ],
      "text/plain": [
       "   시군구  2017범죄유인시설합계  2018범죄유인시설합계  2019범죄유인시설합계  2017범죄발생률  2018범죄발생률  \\\n",
       "0  강남구           586           575           568   1.375987   1.372355   \n",
       "1  강동구           335           317           309   0.967620   0.907344   \n",
       "2  강북구           334           328           317   1.034445   1.064367   \n",
       "3  강서구           454           444           426   0.844218   0.766885   \n",
       "4  관악구           461           440           430   1.060605   0.966464   \n",
       "\n",
       "   2019범죄발생률  \n",
       "0   1.327496  \n",
       "1   0.911465  \n",
       "2   1.208077  \n",
       "3   0.823036  \n",
       "4   1.029896  "
      ]
     },
     "execution_count": 21,
     "metadata": {},
     "output_type": "execute_result"
    }
   ],
   "source": [
    "entice_cri = pd.read_excel('/Users/hajihyuk/Documents/1차 미니 프로젝트/상관분석/범죄유인시설합계(pc제외)_상관분석.xlsx', index_col=0)\n",
    "entice_cri.head()"
   ]
  },
  {
   "cell_type": "code",
   "execution_count": 22,
   "id": "383df960",
   "metadata": {},
   "outputs": [
    {
     "data": {
      "text/plain": [
       "array([[1.        , 0.65649549],\n",
       "       [0.65649549, 1.        ]])"
      ]
     },
     "execution_count": 22,
     "metadata": {},
     "output_type": "execute_result"
    }
   ],
   "source": [
    "np.corrcoef(entice_cri['2017범죄발생률'],entice_cri['2017범죄유인시설합계'])"
   ]
  },
  {
   "cell_type": "code",
   "execution_count": 23,
   "id": "f8ba9a9c",
   "metadata": {},
   "outputs": [
    {
     "data": {
      "text/plain": [
       "array([[1.        , 0.69363611],\n",
       "       [0.69363611, 1.        ]])"
      ]
     },
     "execution_count": 23,
     "metadata": {},
     "output_type": "execute_result"
    }
   ],
   "source": [
    "np.corrcoef(entice_cri['2018범죄발생률'],entice_cri['2018범죄유인시설합계'])"
   ]
  },
  {
   "cell_type": "code",
   "execution_count": 24,
   "id": "224c4196",
   "metadata": {},
   "outputs": [
    {
     "data": {
      "text/plain": [
       "array([[1.        , 0.71419944],\n",
       "       [0.71419944, 1.        ]])"
      ]
     },
     "execution_count": 24,
     "metadata": {},
     "output_type": "execute_result"
    }
   ],
   "source": [
    "np.corrcoef(entice_cri['2019범죄발생률'],entice_cri['2019범죄유인시설합계'])"
   ]
  },
  {
   "cell_type": "markdown",
   "id": "fac1426f",
   "metadata": {},
   "source": [
    "# pc방 포함과 포함하지 않은 상관관계를 근거로 pc방을 유인시설에서 제외한 근거"
   ]
  },
  {
   "cell_type": "code",
   "execution_count": 26,
   "id": "c95fe9f3",
   "metadata": {},
   "outputs": [
    {
     "name": "stdout",
     "output_type": "stream",
     "text": [
      "7278\n",
      "7128\n",
      "6978\n"
     ]
    }
   ],
   "source": [
    "print(entice_cri['2017범죄유인시설합계'].sum())\n",
    "print(entice_cri['2018범죄유인시설합계'].sum())\n",
    "print(entice_cri['2019범죄유인시설합계'].sum())"
   ]
  },
  {
   "cell_type": "code",
   "execution_count": null,
   "id": "2a6cf3f3",
   "metadata": {},
   "outputs": [],
   "source": []
  }
 ],
 "metadata": {
  "kernelspec": {
   "display_name": "Python 3 (ipykernel)",
   "language": "python",
   "name": "python3"
  },
  "language_info": {
   "codemirror_mode": {
    "name": "ipython",
    "version": 3
   },
   "file_extension": ".py",
   "mimetype": "text/x-python",
   "name": "python",
   "nbconvert_exporter": "python",
   "pygments_lexer": "ipython3",
   "version": "3.10.9"
  }
 },
 "nbformat": 4,
 "nbformat_minor": 5
}
